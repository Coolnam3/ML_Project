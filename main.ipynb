{
 "cells": [
  {
   "cell_type": "markdown",
   "metadata": {},
   "source": [
    "# PRJ-002: Diabetes 130-US Hospitals for Years 1999-2008 "
   ]
  },
  {
   "cell_type": "code",
   "execution_count": null,
   "metadata": {},
   "outputs": [],
   "source": [
    "admission_type_id={1:\"Emergency\", 2:\"Urgent\", 3:\"Elective\",4:\"Newborn\",5:\"Not Available\",6:\"NULL\",7:\"Not Mapped\"}\n",
    "\n",
    "discharge_disposition_id = {\n",
    "    1: \"Discharged to home\",\n",
    "    2: \"Discharged/transferred to another short term hospital\",\n",
    "    3: \"Discharged/transferred to SNF\",\n",
    "    4: \"Discharged/transferred to ICF\",\n",
    "    5: \"Discharged/transferred to another type of inpatient care institution\",\n",
    "    6: \"Discharged/transferred to home with home health service\",\n",
    "    7: \"Left AMA\",\n",
    "    8: \"Discharged/transferred to home under care of Home IV provider\",\n",
    "    9: \"Admitted as an inpatient to this hospital\",\n",
    "    10: \"Neonate discharged to another hospital for neonatal aftercare\",\n",
    "    11: \"Expired\",\n",
    "    12: \"Still patient or expected to return for outpatient services\",\n",
    "    13: \"Hospice / home\",\n",
    "    14: \"Hospice / medical facility\",\n",
    "    15: \"Discharged/transferred within this institution to Medicare approved swing bed\",\n",
    "    16: \"Discharged/transferred/referred another institution for outpatient services\",\n",
    "    17: \"Discharged/transferred/referred to this institution for outpatient services\",\n",
    "    18: \"NULL\",\n",
    "    19: \"Expired at home. Medicaid only, hospice.\",\n",
    "    20: \"Expired in a medical facility. Medicaid only, hospice.\",\n",
    "    21: \"Expired, place unknown. Medicaid only, hospice.\",\n",
    "    22: \"Discharged/transferred to another rehab fac including rehab units of a hospital\",\n",
    "    23: \"Discharged/transferred to a long term care hospital\",\n",
    "    24: \"Discharged/transferred to a nursing facility certified under Medicaid but not certified under Medicare.\",\n",
    "    25: \"Not Mapped\",\n",
    "    26: \"Unknown/Invalid\",\n",
    "    30: \"Discharged/transferred to another Type of Health Care Institution not Defined Elsewhere\",\n",
    "    27: \"Discharged/transferred to a federal health care facility.\",\n",
    "    28: \"Discharged/transferred/referred to a psychiatric hospital or psychiatric distinct part unit of a hospital\",\n",
    "    29: \"Discharged/transferred to a Critical Access Hospital (CAH).\"\n",
    "}\n",
    "\n",
    "admission_source_id = {\n",
    "    1: \"Physician Referral\",\n",
    "    2: \"Clinic Referral\",\n",
    "    3: \"HMO Referral\",\n",
    "    4: \"Transfer from a hospital\",\n",
    "    5: \"Transfer from a Skilled Nursing Facility (SNF)\",\n",
    "    6: \"Transfer from another health care facility\",\n",
    "    7: \"Emergency Room\",\n",
    "    8: \"Court/Law Enforcement\",\n",
    "    9: \"Not Available\",\n",
    "    10: \"Transfer from critical access hospital\",\n",
    "    11: \"Normal Delivery\",\n",
    "    12: \"Premature Delivery\",\n",
    "    13: \"Sick Baby\",\n",
    "    14: \"Extramural Birth\",\n",
    "    15: \"Not Available\",\n",
    "    17: \"NULL\",\n",
    "    18: \"Transfer From Another Home Health Agency\",\n",
    "    19: \"Readmission to Same Home Health Agency\",\n",
    "    20: \"Not Mapped\",\n",
    "    21: \"Unknown/Invalid\",\n",
    "    22: \"Transfer from hospital inpt/same fac reslt in a sep claim\",\n",
    "    23: \"Born inside this hospital\",\n",
    "    24: \"Born outside this hospital\",\n",
    "    25: \"Transfer from Ambulatory Surgery Center\",\n",
    "    26: \"Transfer from Hospice\"\n",
    "}\n",
    "\n",
    "dosage={0:\"No\",1:\"Down\",2:\"Up\",3:\"Steady\"}"
   ]
  }
 ],
 "metadata": {
  "kernelspec": {
   "display_name": "Seminar2",
   "language": "python",
   "name": "python3"
  },
  "language_info": {
   "name": "python",
   "version": "3.7.16"
  }
 },
 "nbformat": 4,
 "nbformat_minor": 2
}
